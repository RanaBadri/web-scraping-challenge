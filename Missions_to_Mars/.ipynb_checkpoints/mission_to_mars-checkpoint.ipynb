{
 "cells": [
  {
   "cell_type": "code",
   "execution_count": 1,
   "id": "bc38905d",
   "metadata": {},
   "outputs": [],
   "source": [
    "from splinter import Browser\n",
    "from bs4 import BeautifulSoup\n",
    "from webdriver_manager.chrome import ChromeDriverManager"
   ]
  },
  {
   "cell_type": "code",
   "execution_count": 2,
   "id": "dac6c123",
   "metadata": {},
   "outputs": [
    {
     "name": "stderr",
     "output_type": "stream",
     "text": [
      "\n",
      "\n",
      "====== WebDriver manager ======\n",
      "Current google-chrome version is 94.0.4606\n",
      "Get LATEST driver version for 94.0.4606\n",
      "Driver [C:\\Users\\ranab\\.wdm\\drivers\\chromedriver\\win32\\94.0.4606.61\\chromedriver.exe] found in cache\n"
     ]
    }
   ],
   "source": [
    "# Setup splinter\n",
    "executable_path = {'executable_path': ChromeDriverManager().install()}\n",
    "browser = Browser('chrome', **executable_path, headless=False)"
   ]
  },
  {
   "cell_type": "code",
   "execution_count": 3,
   "id": "7ffff5b0",
   "metadata": {},
   "outputs": [
    {
     "name": "stdout",
     "output_type": "stream",
     "text": [
      "Hear Audio From NASA's Perseverance As It Travels Through Deep Space\n"
     ]
    },
    {
     "data": {
      "text/plain": [
       "\"The first to be rigged with microphones, the agency's latest Mars rover picked up the subtle sounds of its own inner workings during interplanetary flight.\""
      ]
     },
     "execution_count": 3,
     "metadata": {},
     "output_type": "execute_result"
    }
   ],
   "source": [
    "browser.visit(\"https://redplanetscience.com/\")\n",
    "\n",
    "news_soup = BeautifulSoup(browser.html, \"html.parser\")\n",
    "\n",
    "latest_news = news_soup.find_all(\"div\", class_=\"content_title\")\n",
    "\n",
    "latest_news=latest_news[0].text\n",
    "\n",
    "# mars_headline\n",
    "print(latest_news)\n",
    "\n",
    "paragraph = news_soup.find_all(\"div\", class_=\"article_teaser_body\")\n",
    "\n",
    "paragraph=paragraph[0].text\n",
    "\n",
    "paragraph"
   ]
  },
  {
   "cell_type": "code",
   "execution_count": 4,
   "id": "61a662e7",
   "metadata": {},
   "outputs": [
    {
     "name": "stderr",
     "output_type": "stream",
     "text": [
      "\n",
      "\n",
      "====== WebDriver manager ======\n",
      "Current google-chrome version is 94.0.4606\n",
      "Get LATEST driver version for 94.0.4606\n",
      "Driver [C:\\Users\\ranab\\.wdm\\drivers\\chromedriver\\win32\\94.0.4606.61\\chromedriver.exe] found in cache\n"
     ]
    }
   ],
   "source": [
    "executable_path = {'executable_path': ChromeDriverManager().install()}\n",
    "browser = Browser('chrome', **executable_path, headless=False)"
   ]
  },
  {
   "cell_type": "code",
   "execution_count": 7,
   "id": "a4462289",
   "metadata": {},
   "outputs": [
    {
     "ename": "NameError",
     "evalue": "name 'time' is not defined",
     "output_type": "error",
     "traceback": [
      "\u001b[1;31m---------------------------------------------------------------------------\u001b[0m",
      "\u001b[1;31mNameError\u001b[0m                                 Traceback (most recent call last)",
      "\u001b[1;32m~\\AppData\\Local\\Temp/ipykernel_22392/1730715366.py\u001b[0m in \u001b[0;36m<module>\u001b[1;34m\u001b[0m\n\u001b[0;32m      1\u001b[0m \u001b[0mbrowser\u001b[0m\u001b[1;33m.\u001b[0m\u001b[0mvisit\u001b[0m\u001b[1;33m(\u001b[0m\u001b[1;34m\"https://spaceimages-mars.com/\"\u001b[0m\u001b[1;33m)\u001b[0m\u001b[1;33m\u001b[0m\u001b[1;33m\u001b[0m\u001b[0m\n\u001b[1;32m----> 2\u001b[1;33m \u001b[0mtime\u001b[0m\u001b[1;33m.\u001b[0m\u001b[0msleep\u001b[0m\u001b[1;33m(\u001b[0m\u001b[1;36m3\u001b[0m\u001b[1;33m)\u001b[0m\u001b[1;33m\u001b[0m\u001b[1;33m\u001b[0m\u001b[0m\n\u001b[0m\u001b[0;32m      3\u001b[0m \u001b[0mhtml\u001b[0m \u001b[1;33m=\u001b[0m \u001b[0mbrowser\u001b[0m\u001b[1;33m.\u001b[0m\u001b[0mhtml\u001b[0m\u001b[1;33m\u001b[0m\u001b[1;33m\u001b[0m\u001b[0m\n\u001b[0;32m      4\u001b[0m \u001b[0msoup\u001b[0m \u001b[1;33m=\u001b[0m \u001b[0mBeautifulSoup\u001b[0m\u001b[1;33m(\u001b[0m\u001b[0mhtml\u001b[0m\u001b[1;33m,\u001b[0m \u001b[1;34m'html.parser'\u001b[0m\u001b[1;33m)\u001b[0m\u001b[1;33m\u001b[0m\u001b[1;33m\u001b[0m\u001b[0m\n",
      "\u001b[1;31mNameError\u001b[0m: name 'time' is not defined"
     ]
    }
   ],
   "source": [
    "browser.visit(\"https://spaceimages-mars.com/\")\n",
    "time.sleep(3)\n",
    "html = browser.html\n",
    "soup = BeautifulSoup(html, 'html.parser')"
   ]
  },
  {
   "cell_type": "code",
   "execution_count": null,
   "id": "fa510151",
   "metadata": {},
   "outputs": [],
   "source": [
    "image_button = browser.find_by_tag(\"button\")[1]\n",
    "image_button.click()"
   ]
  },
  {
   "cell_type": "code",
   "execution_count": null,
   "id": "5881c8d5",
   "metadata": {},
   "outputs": [],
   "source": [
    "html = browser.html\n",
    "img_soup = BeautifulSoup(html, 'html.parser')"
   ]
  },
  {
   "cell_type": "code",
   "execution_count": null,
   "id": "df54d288",
   "metadata": {},
   "outputs": [],
   "source": [
    "image_pull = img_soup.find('img', class_='fancybox-image').get('src')\n",
    "image_pull"
   ]
  },
  {
   "cell_type": "code",
   "execution_count": null,
   "id": "d212dba0",
   "metadata": {},
   "outputs": [],
   "source": [
    "feature_url = f'https://spaceimages-mars.com/{image_pull}'\n",
    "feature_url"
   ]
  },
  {
   "cell_type": "markdown",
   "id": "2912115d",
   "metadata": {},
   "source": [
    "## MARS FACTS"
   ]
  },
  {
   "cell_type": "code",
   "execution_count": null,
   "id": "7ae20269",
   "metadata": {},
   "outputs": [],
   "source": [
    "import pandas as pd"
   ]
  },
  {
   "cell_type": "code",
   "execution_count": null,
   "id": "c63b6f7e",
   "metadata": {},
   "outputs": [],
   "source": [
    "executable_path = {'executable_path': ChromeDriverManager().install()}\n",
    "browser = Browser('chrome', **executable_path, headless=False)"
   ]
  },
  {
   "cell_type": "code",
   "execution_count": null,
   "id": "3d5b4cf7",
   "metadata": {},
   "outputs": [],
   "source": [
    "url=\"https://galaxyfacts-mars.com\"\n",
    "\n",
    "all_facts = pd.read_html(url)[1]\n",
    "\n",
    "all_facts"
   ]
  },
  {
   "cell_type": "code",
   "execution_count": null,
   "id": "e17e8596",
   "metadata": {},
   "outputs": [],
   "source": [
    "all_facts.columns=[\"Description\", \"Value\"]\n",
    "all_facts\n"
   ]
  },
  {
   "cell_type": "code",
   "execution_count": null,
   "id": "7e0dcad2",
   "metadata": {},
   "outputs": [],
   "source": [
    "all_facts.set_index('Description', inplace=True)\n",
    "all_facts"
   ]
  },
  {
   "cell_type": "code",
   "execution_count": null,
   "id": "b4e18b21",
   "metadata": {},
   "outputs": [],
   "source": [
    "html_factstable= all_facts.to_html()\n",
    "html_factstable"
   ]
  },
  {
   "cell_type": "markdown",
   "id": "3efb3926",
   "metadata": {},
   "source": [
    "# Mars Hemispheres"
   ]
  },
  {
   "cell_type": "code",
   "execution_count": null,
   "id": "1de66074",
   "metadata": {},
   "outputs": [],
   "source": [
    "executable_path = {'executable_path': ChromeDriverManager().install()}\n",
    "browser = Browser('chrome', **executable_path, headless=False)"
   ]
  },
  {
   "cell_type": "code",
   "execution_count": null,
   "id": "75d0701c",
   "metadata": {},
   "outputs": [],
   "source": [
    "hemi_url=\"https://marshemispheres.com/\"\n",
    "browser.visit(hemi_url)\n",
    "time.sleep(3)\n",
    "html = browser.html\n",
    "soup = BeautifulSoup(html, 'html.parser')\n"
   ]
  },
  {
   "cell_type": "code",
   "execution_count": null,
   "id": "8b9d5d66",
   "metadata": {},
   "outputs": [],
   "source": [
    "# Retreive all items that contain mars hemispheres information\n",
    "items = soup.find_all('div', class_='item')\n",
    "# Create empty list for hemisphere urls \n",
    "hemisphere_images = []\n",
    "# Store the main_ul \n",
    "hemispheres_main_url = \"https://marshemispheres.com/\"\n",
    "\n",
    "# Loop through the items previously stored\n",
    "for i in items: \n",
    "    # Store title\n",
    "    title = i.find('h3').text\n",
    "    # Store link that leads to full image website\n",
    "    part_img = i.find('a', class_='itemLink product-item')['href']\n",
    "    # Visit the link that contains the full image website \n",
    "    browser.visit(hemispheres_main_url + part_img)\n",
    "    # HTML Object of individual hemisphere information website \n",
    "    sub_img_html = browser.html\n",
    "    # Parse HTML with Beautiful Soup for every individual hemisphere information website \n",
    "    soup = BeautifulSoup( sub_img_html, 'html.parser')\n",
    "    # Retrieve full image source \n",
    "    img_url = hemispheres_main_url + soup.find('img', class_='wide-image')['src']\n",
    "    # Append the retreived information into a list of dictionaries \n",
    "    hemisphere_images.append({\"title\" : title, \"img_url\" : img_url})\n",
    "    \n",
    "# Display hemisphere_image_urls\n",
    "hemisphere_images"
   ]
  },
  {
   "cell_type": "code",
   "execution_count": null,
   "id": "03562a89",
   "metadata": {},
   "outputs": [],
   "source": []
  }
 ],
 "metadata": {
  "interpreter": {
   "hash": "5849dc6c724e28b05f35c8a96da5d71093eb2474a283e737ce7a0935e58c72f4"
  },
  "kernelspec": {
   "display_name": "Python 3 (ipykernel)",
   "language": "python",
   "name": "python3"
  },
  "language_info": {
   "codemirror_mode": {
    "name": "ipython",
    "version": 3
   },
   "file_extension": ".py",
   "mimetype": "text/x-python",
   "name": "python",
   "nbconvert_exporter": "python",
   "pygments_lexer": "ipython3",
   "version": "3.9.7"
  }
 },
 "nbformat": 4,
 "nbformat_minor": 5
}
